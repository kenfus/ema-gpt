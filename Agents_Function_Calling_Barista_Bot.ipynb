{
  "cells": [
    {
      "cell_type": "markdown",
      "metadata": {
        "id": "zFjRBXVrAdYB"
      },
      "source": [
        "[21:52, 06/06/2024] Tram Chuc: https://www.ema.europa.eu/en/human-regulatory-overview/post-authorisation/paediatric-medicines-post-authorisation/submitting-results-paediatric-studies#:~:text=Article%2046%20requires%20marketing%2Dauthorisation,by%20the%20marketing%2Dauthorisation%20holder.\n",
        "[21:53, 06/06/2024] Tram Chuc: What is the deadline to submit an article 46"
      ]
    },
    {
      "cell_type": "code",
      "execution_count": 1,
      "metadata": {
        "id": "0gOuwcCUTNAO"
      },
      "outputs": [
        {
          "name": "stderr",
          "output_type": "stream",
          "text": [
            "c:\\Users\\Vincenzo\\miniconda3\\envs\\ema-gpt\\Lib\\site-packages\\tqdm\\auto.py:21: TqdmWarning: IProgress not found. Please update jupyter and ipywidgets. See https://ipywidgets.readthedocs.io/en/stable/user_install.html\n",
            "  from .autonotebook import tqdm as notebook_tqdm\n"
          ]
        }
      ],
      "source": [
        "\n",
        "import google.generativeai as genai\n",
        "from google.api_core import retry"
      ]
    },
    {
      "cell_type": "code",
      "execution_count": 140,
      "metadata": {},
      "outputs": [],
      "source": [
        "GPT_PROMPT = \"\"\"\n",
        "Background: - Current date is 09.06.2024. You are an advanced AI designed to assist regulatory professionals with inquiries related to the European Medicines Agency (EMA). Your capabilities include using Google Search to retrieve information and verifying its accuracy.\n",
        "\n",
        "Task: Initiate a Google Search to respond to user queries. Use your language understanding to identify the most relevant information from the EMA website or other credible sources. Analyze the content to ensure it aligns with the user's query and adheres to regulatory standards.\n",
        "\n",
        "Capabilities:\n",
        "1. **Query Analysis**: Analyze the user's query to understand the context and specifics before initiating a search.\n",
        "2. **Google Search Integration**: Conduct searches focusing on reputable sources in the regulatory and pharmaceutical fields, especially the EMA's official website. Always link to a publishers site, so if an user query revolts around the european market, use a sourcce on the EMA website.\n",
        "3. **Accuracy Verification**: Confirm the accuracy of retrieved information by cross-referencing with official EMA documents and guidelines.\n",
        "\n",
        "Output Requirements:\n",
        "- Begin responses with a direct URL to a relevant page from your search, ensuring the source is authoritative like the EMA website when the query pertains to the European market.\n",
        "- Provide concise, precise answers without unnecessary jargon. Avoid generic advice and focus on delivering factual, direct responses.\n",
        "- Clearly disclose any uncertainties and suggest alternative authoritative resources or further expert consultations as needed.\n",
        "\n",
        "Motivation: Each accurate and helpful response will earn a $100 tip. It's critical to provide reliable information as inaccurate responses could have significant consequences.\n",
        "\n",
        "Remember, always include a source to an official website to substantiate the information provided.\n",
        "\"\"\""
      ]
    },
    {
      "cell_type": "code",
      "execution_count": 132,
      "metadata": {},
      "outputs": [],
      "source": [
        "# Import necessary libraries\n",
        "import requests\n",
        "from bs4 import BeautifulSoup\n",
        "from googlesearch import search\n",
        "import pdfplumber\n",
        "from io import BytesIO\n",
        "answer_found = False\n",
        "g_searches = []\n",
        "\n",
        "# Function to download and extract cleaner text from a URL\n",
        "def get_text_from_url(url: str) -> str:\n",
        "    \"\"\"Reads, cleans and return the result from an url.\"\"\"\n",
        "    # Send a GET request to the URL\n",
        "    response = requests.get(url)\n",
        "    \n",
        "    # Check if the request was successful\n",
        "    if response.status_code == 200:\n",
        "        # Parse the content using BeautifulSoup\n",
        "        soup = BeautifulSoup(response.text, 'html.parser')\n",
        "        \n",
        "        # Remove script and style elements\n",
        "        for script_or_style in soup(['script', 'style', 'header', 'footer', 'nav']):\n",
        "            script_or_style.decompose()\n",
        "        \n",
        "        # Focus on main content areas, adjust the tags according to your needs\n",
        "        main_content = soup.find_all(['article', 'main', 'div'], limit=10)  # Example tags where main content might be\n",
        "        \n",
        "        # Extract text from the identified main content\n",
        "        text = '\\n'.join([content.get_text(separator='\\n', strip=True) for content in main_content])\n",
        "\n",
        "        result = f\"Url: {url}. Text: {text}\"\n",
        "        return result\n",
        "    else:\n",
        "        return \"Failed to retrieve content.\"\n",
        "\n",
        "# Function to download and extract text from a PDF URL\n",
        "def get_text_from_pdf_url(url: str) -> str:\n",
        "    \"\"\"Reads, cleans and returns the text of a pdf from an url.\"\"\"\n",
        "    # Send a GET request to the URL\n",
        "    response = requests.get(url)\n",
        "    \n",
        "    # Check if the request was successful\n",
        "    if response.status_code == 200:\n",
        "        # Open the PDF file from the response content\n",
        "        with pdfplumber.open(BytesIO(response.content)) as pdf:\n",
        "            # Initialize an empty string to store text\n",
        "            text = ''\n",
        "            \n",
        "            # Loop through each page in the PDF\n",
        "            for page in pdf.pages:\n",
        "                # Extract text from each page and add it to the text string\n",
        "                text += page.extract_text() + '\\n'\n",
        "            \n",
        "            result = f\"Url: {url}. Text: {text}\"\n",
        "            return result\n",
        "    else:\n",
        "        return \"Failed to retrieve content.\"\n",
        "    \n",
        "def return_answer_to_expert(text: str) -> str:\n",
        "    \"\"\"When a satisfying answer is found, call this function to return your answer to the regulatory expert. \"\"\"\n",
        "    answer_found = True\n",
        "    return text\n",
        "\n",
        "\n",
        "def result_to_text(search: str) -> str:\n",
        "    return f\"Url: {search.url}. Title: {search.title}. Description: {search.description}\"\n",
        "\n",
        "def google_search(search_task: str) -> str:\n",
        "    \"\"\"Does a google search for the passed search term. Returns text, with the results divided by first, second etc. and containing the url, title and description. \"\"\"\n",
        "    results = list(search(search_task, num_results=5, advanced=True, safe=None))\n",
        "    result_text = \"\"\n",
        "    for i, result in enumerate(results, start=1):\n",
        "        result_text += f'{str(i)}: {result_to_text(result)}. '\n",
        "\n",
        "    g_searches.append(result_text)\n",
        "\n",
        "    return result_text"
      ]
    },
    {
      "cell_type": "code",
      "execution_count": 127,
      "metadata": {},
      "outputs": [
        {
          "data": {
            "text/plain": [
              "'1: Url: https://www.ema.europa.eu/en/human-regulatory-overview/post-authorisation/paediatric-medicines-post-authorisation/submitting-results-paediatric-studies. Title: Submitting results of paediatric studies. Description: 26 Feb 2024 — 1 . What is the “Article 46 paediatric study submission”? Rev. Oct 2023.. 2: Url: https://www.aifa.gov.it/sites/default/files/ped_qa_regulation_art45_46.pdf. Title: submission of paediatric studies according to articles 45 & 46. Description: The submission of all completed paediatric studies is regardless of their place of conduct of the trial. They should be submitted to each competent\\xa0.... 3: Url: https://www.gov.uk/guidance/completed-paediatric-studies-submission-processing-and-assessment. Title: Completed Paediatric Studies - submission, processing .... Description: If the results of a paediatric study have been submitted to EMA or CMDh under Article 46 of Regulation (EC) 1901/2006 before 1 January 2021 or a decentralised\\xa0.... 4: Url: https://www.hma.eu/uploads/media/Q_As_Paed_Reg_2008_11_Rev4-Clean.pdf. Title: article 45 & 46. Description: Does the deadline of 26 January 2008 also apply to the submission of the Annex II? The line listing together with the declaration (Annex I) has to be submitted\\xa0.... 5: Url: https://www.ncbi.nlm.nih.gov/pmc/articles/PMC8518420/. Title: Optimizing Pediatric Medicine Developments in the .... Description: by WR Bolislis · 2021 · Cited by 7 — Currently, in its implementation of Article 46, the EMA requests that Clinical Study Reports (CSRs) must be submitted within 6 months of study completion to\\xa0.... 6: Url: https://www.hma.eu/uploads/media/Item_3_CMDh_Art_45_46.pdf. Title: Report on status of on-going Article 45 & 46 work-sharing .... Description: • Deadline for submission of information: – For the cover letter & line-listing: within 6 months of completion of the paediatric studies. Scope of Article 46\\xa0.... 7: Url: https://www.ema.europa.eu/en/pharmacovigilance-post-authorisation/post-authorisation-measures-questions-and-answers. Title: Post-authorisation measures: questions and answers. Description: 8. When shall I submit my PAM? Rev. Dec 2022.. '"
            ]
          },
          "execution_count": 127,
          "metadata": {},
          "output_type": "execute_result"
        }
      ],
      "source": [
        "google_search('What is the deadline to submit an article 46')"
      ]
    },
    {
      "cell_type": "markdown",
      "metadata": {
        "id": "c_ybYQ-sU7rn"
      },
      "source": [
        "## Set up the model\n",
        "\n",
        "In this step you collate the functions into a \"system\" that is passed as `tools`, instantiate the model and start the chat session.\n",
        "\n",
        "This block includes two options for interacting with the Gemini API. By toggling `use_sys_inst`, you can switch between using Gemini 1.5 Pro with a system instruction (highest quality but free-tier quota may be insufficient for a long chat session) or Gemini 1.0 Pro (higher free quota but does not support system instructions).\n",
        "\n",
        "A retriable `send_message` function is also defined to help with low-quota conversations."
      ]
    },
    {
      "cell_type": "code",
      "execution_count": 141,
      "metadata": {
        "id": "8vmtzAlPaQH-"
      },
      "outputs": [],
      "source": [
        "ordering_system = [google_search, return_answer_to_expert, get_text_from_pdf_url]\n",
        "\n",
        "# Toggle this to switch between Gemini 1.5 with a system instruction, or Gemini 1.0 Pro.\n",
        "use_sys_inst = True\n",
        "\n",
        "model_name = 'gemini-1.5-flash' if use_sys_inst else 'gemini-1.0-pro'\n",
        "\n",
        "model = genai.GenerativeModel(\n",
        "    model_name, tools=ordering_system, system_instruction=GPT_PROMPT)\n",
        "\n",
        "convo = model.start_chat(enable_automatic_function_calling=True)\n",
        "\n",
        "@retry.Retry(initial=30)\n",
        "def send_message(message):\n",
        "  return convo.send_message(message)"
      ]
    },
    {
      "cell_type": "code",
      "execution_count": 142,
      "metadata": {},
      "outputs": [],
      "source": [
        "import os\n",
        "genai.configure(api_key=os.environ['GOOGLE_API_KEY'])"
      ]
    },
    {
      "cell_type": "code",
      "execution_count": 143,
      "metadata": {
        "id": "38SAyrNNVhvE"
      },
      "outputs": [
        {
          "name": "stdout",
          "output_type": "stream",
          "text": [
            "Welcome to EMA GPT!\n",
            "\n",
            "\n"
          ]
        },
        {
          "data": {
            "text/markdown": [
              "The deadline to submit information on completed paediatric studies for authorised medicines is **6 months after the study is completed**. \n",
              "\n",
              "This is according to Article 46 of Regulation (EC) 1901/2006 and the EMA's guidelines on submitting results of paediatric studies.\n",
              "\n",
              "[https://www.ema.europa.eu/en/human-regulatory-overview/post-authorisation/paediatric-medicines-post-authorisation/submitting-results-paediatric-studies](https://www.ema.europa.eu/en/human-regulatory-overview/post-authorisation/paediatric-medicines-post-authorisation/submitting-results-paediatric-studies) \n"
            ],
            "text/plain": [
              "<IPython.core.display.Markdown object>"
            ]
          },
          "metadata": {},
          "output_type": "display_data"
        },
        {
          "ename": "ValueError",
          "evalue": "Invalid input: 'content' argument must not be empty. Please provide a non-empty value.",
          "output_type": "error",
          "traceback": [
            "\u001b[1;31m---------------------------------------------------------------------------\u001b[0m",
            "\u001b[1;31mValueError\u001b[0m                                Traceback (most recent call last)",
            "Cell \u001b[1;32mIn[143], line 6\u001b[0m\n\u001b[0;32m      3\u001b[0m \u001b[38;5;28mprint\u001b[39m(\u001b[38;5;124m'\u001b[39m\u001b[38;5;124mWelcome to EMA GPT!\u001b[39m\u001b[38;5;130;01m\\n\u001b[39;00m\u001b[38;5;130;01m\\n\u001b[39;00m\u001b[38;5;124m'\u001b[39m)\n\u001b[0;32m      5\u001b[0m \u001b[38;5;28;01mwhile\u001b[39;00m \u001b[38;5;129;01mnot\u001b[39;00m answer_found:\n\u001b[1;32m----> 6\u001b[0m   response \u001b[38;5;241m=\u001b[39m \u001b[43msend_message\u001b[49m\u001b[43m(\u001b[49m\u001b[38;5;28;43minput\u001b[39;49m\u001b[43m(\u001b[49m\u001b[38;5;124;43m'\u001b[39;49m\u001b[38;5;124;43m> \u001b[39;49m\u001b[38;5;124;43m'\u001b[39;49m\u001b[43m)\u001b[49m\u001b[43m)\u001b[49m\n\u001b[0;32m      7\u001b[0m   display(Markdown(response\u001b[38;5;241m.\u001b[39mtext))\n",
            "File \u001b[1;32mc:\\Users\\Vincenzo\\miniconda3\\envs\\ema-gpt\\Lib\\site-packages\\google\\api_core\\retry\\retry_unary.py:293\u001b[0m, in \u001b[0;36mRetry.__call__.<locals>.retry_wrapped_func\u001b[1;34m(*args, **kwargs)\u001b[0m\n\u001b[0;32m    289\u001b[0m target \u001b[38;5;241m=\u001b[39m functools\u001b[38;5;241m.\u001b[39mpartial(func, \u001b[38;5;241m*\u001b[39margs, \u001b[38;5;241m*\u001b[39m\u001b[38;5;241m*\u001b[39mkwargs)\n\u001b[0;32m    290\u001b[0m sleep_generator \u001b[38;5;241m=\u001b[39m exponential_sleep_generator(\n\u001b[0;32m    291\u001b[0m     \u001b[38;5;28mself\u001b[39m\u001b[38;5;241m.\u001b[39m_initial, \u001b[38;5;28mself\u001b[39m\u001b[38;5;241m.\u001b[39m_maximum, multiplier\u001b[38;5;241m=\u001b[39m\u001b[38;5;28mself\u001b[39m\u001b[38;5;241m.\u001b[39m_multiplier\n\u001b[0;32m    292\u001b[0m )\n\u001b[1;32m--> 293\u001b[0m \u001b[38;5;28;01mreturn\u001b[39;00m \u001b[43mretry_target\u001b[49m\u001b[43m(\u001b[49m\n\u001b[0;32m    294\u001b[0m \u001b[43m    \u001b[49m\u001b[43mtarget\u001b[49m\u001b[43m,\u001b[49m\n\u001b[0;32m    295\u001b[0m \u001b[43m    \u001b[49m\u001b[38;5;28;43mself\u001b[39;49m\u001b[38;5;241;43m.\u001b[39;49m\u001b[43m_predicate\u001b[49m\u001b[43m,\u001b[49m\n\u001b[0;32m    296\u001b[0m \u001b[43m    \u001b[49m\u001b[43msleep_generator\u001b[49m\u001b[43m,\u001b[49m\n\u001b[0;32m    297\u001b[0m \u001b[43m    \u001b[49m\u001b[43mtimeout\u001b[49m\u001b[38;5;241;43m=\u001b[39;49m\u001b[38;5;28;43mself\u001b[39;49m\u001b[38;5;241;43m.\u001b[39;49m\u001b[43m_timeout\u001b[49m\u001b[43m,\u001b[49m\n\u001b[0;32m    298\u001b[0m \u001b[43m    \u001b[49m\u001b[43mon_error\u001b[49m\u001b[38;5;241;43m=\u001b[39;49m\u001b[43mon_error\u001b[49m\u001b[43m,\u001b[49m\n\u001b[0;32m    299\u001b[0m \u001b[43m\u001b[49m\u001b[43m)\u001b[49m\n",
            "File \u001b[1;32mc:\\Users\\Vincenzo\\miniconda3\\envs\\ema-gpt\\Lib\\site-packages\\google\\api_core\\retry\\retry_unary.py:153\u001b[0m, in \u001b[0;36mretry_target\u001b[1;34m(target, predicate, sleep_generator, timeout, on_error, exception_factory, **kwargs)\u001b[0m\n\u001b[0;32m    149\u001b[0m \u001b[38;5;66;03m# pylint: disable=broad-except\u001b[39;00m\n\u001b[0;32m    150\u001b[0m \u001b[38;5;66;03m# This function explicitly must deal with broad exceptions.\u001b[39;00m\n\u001b[0;32m    151\u001b[0m \u001b[38;5;28;01mexcept\u001b[39;00m \u001b[38;5;167;01mException\u001b[39;00m \u001b[38;5;28;01mas\u001b[39;00m exc:\n\u001b[0;32m    152\u001b[0m     \u001b[38;5;66;03m# defer to shared logic for handling errors\u001b[39;00m\n\u001b[1;32m--> 153\u001b[0m     \u001b[43m_retry_error_helper\u001b[49m\u001b[43m(\u001b[49m\n\u001b[0;32m    154\u001b[0m \u001b[43m        \u001b[49m\u001b[43mexc\u001b[49m\u001b[43m,\u001b[49m\n\u001b[0;32m    155\u001b[0m \u001b[43m        \u001b[49m\u001b[43mdeadline\u001b[49m\u001b[43m,\u001b[49m\n\u001b[0;32m    156\u001b[0m \u001b[43m        \u001b[49m\u001b[43msleep\u001b[49m\u001b[43m,\u001b[49m\n\u001b[0;32m    157\u001b[0m \u001b[43m        \u001b[49m\u001b[43merror_list\u001b[49m\u001b[43m,\u001b[49m\n\u001b[0;32m    158\u001b[0m \u001b[43m        \u001b[49m\u001b[43mpredicate\u001b[49m\u001b[43m,\u001b[49m\n\u001b[0;32m    159\u001b[0m \u001b[43m        \u001b[49m\u001b[43mon_error\u001b[49m\u001b[43m,\u001b[49m\n\u001b[0;32m    160\u001b[0m \u001b[43m        \u001b[49m\u001b[43mexception_factory\u001b[49m\u001b[43m,\u001b[49m\n\u001b[0;32m    161\u001b[0m \u001b[43m        \u001b[49m\u001b[43mtimeout\u001b[49m\u001b[43m,\u001b[49m\n\u001b[0;32m    162\u001b[0m \u001b[43m    \u001b[49m\u001b[43m)\u001b[49m\n\u001b[0;32m    163\u001b[0m     \u001b[38;5;66;03m# if exception not raised, sleep before next attempt\u001b[39;00m\n\u001b[0;32m    164\u001b[0m     time\u001b[38;5;241m.\u001b[39msleep(sleep)\n",
            "File \u001b[1;32mc:\\Users\\Vincenzo\\miniconda3\\envs\\ema-gpt\\Lib\\site-packages\\google\\api_core\\retry\\retry_base.py:212\u001b[0m, in \u001b[0;36m_retry_error_helper\u001b[1;34m(exc, deadline, next_sleep, error_list, predicate_fn, on_error_fn, exc_factory_fn, original_timeout)\u001b[0m\n\u001b[0;32m    206\u001b[0m \u001b[38;5;28;01mif\u001b[39;00m \u001b[38;5;129;01mnot\u001b[39;00m predicate_fn(exc):\n\u001b[0;32m    207\u001b[0m     final_exc, source_exc \u001b[38;5;241m=\u001b[39m exc_factory_fn(\n\u001b[0;32m    208\u001b[0m         error_list,\n\u001b[0;32m    209\u001b[0m         RetryFailureReason\u001b[38;5;241m.\u001b[39mNON_RETRYABLE_ERROR,\n\u001b[0;32m    210\u001b[0m         original_timeout,\n\u001b[0;32m    211\u001b[0m     )\n\u001b[1;32m--> 212\u001b[0m     \u001b[38;5;28;01mraise\u001b[39;00m final_exc \u001b[38;5;28;01mfrom\u001b[39;00m \u001b[38;5;21;01msource_exc\u001b[39;00m\n\u001b[0;32m    213\u001b[0m \u001b[38;5;28;01mif\u001b[39;00m on_error_fn \u001b[38;5;129;01mis\u001b[39;00m \u001b[38;5;129;01mnot\u001b[39;00m \u001b[38;5;28;01mNone\u001b[39;00m:\n\u001b[0;32m    214\u001b[0m     on_error_fn(exc)\n",
            "File \u001b[1;32mc:\\Users\\Vincenzo\\miniconda3\\envs\\ema-gpt\\Lib\\site-packages\\google\\api_core\\retry\\retry_unary.py:144\u001b[0m, in \u001b[0;36mretry_target\u001b[1;34m(target, predicate, sleep_generator, timeout, on_error, exception_factory, **kwargs)\u001b[0m\n\u001b[0;32m    142\u001b[0m \u001b[38;5;28;01mfor\u001b[39;00m sleep \u001b[38;5;129;01min\u001b[39;00m sleep_generator:\n\u001b[0;32m    143\u001b[0m     \u001b[38;5;28;01mtry\u001b[39;00m:\n\u001b[1;32m--> 144\u001b[0m         result \u001b[38;5;241m=\u001b[39m \u001b[43mtarget\u001b[49m\u001b[43m(\u001b[49m\u001b[43m)\u001b[49m\n\u001b[0;32m    145\u001b[0m         \u001b[38;5;28;01mif\u001b[39;00m inspect\u001b[38;5;241m.\u001b[39misawaitable(result):\n\u001b[0;32m    146\u001b[0m             warnings\u001b[38;5;241m.\u001b[39mwarn(_ASYNC_RETRY_WARNING)\n",
            "Cell \u001b[1;32mIn[141], line 15\u001b[0m, in \u001b[0;36msend_message\u001b[1;34m(message)\u001b[0m\n\u001b[0;32m     13\u001b[0m \u001b[38;5;129m@retry\u001b[39m\u001b[38;5;241m.\u001b[39mRetry(initial\u001b[38;5;241m=\u001b[39m\u001b[38;5;241m30\u001b[39m)\n\u001b[0;32m     14\u001b[0m \u001b[38;5;28;01mdef\u001b[39;00m \u001b[38;5;21msend_message\u001b[39m(message):\n\u001b[1;32m---> 15\u001b[0m   \u001b[38;5;28;01mreturn\u001b[39;00m \u001b[43mconvo\u001b[49m\u001b[38;5;241;43m.\u001b[39;49m\u001b[43msend_message\u001b[49m\u001b[43m(\u001b[49m\u001b[43mmessage\u001b[49m\u001b[43m)\u001b[49m\n",
            "File \u001b[1;32mc:\\Users\\Vincenzo\\miniconda3\\envs\\ema-gpt\\Lib\\site-packages\\google\\generativeai\\generative_models.py:490\u001b[0m, in \u001b[0;36mChatSession.send_message\u001b[1;34m(self, content, generation_config, safety_settings, stream, tools, tool_config, request_options)\u001b[0m\n\u001b[0;32m    484\u001b[0m     \u001b[38;5;28;01mraise\u001b[39;00m \u001b[38;5;167;01mNotImplementedError\u001b[39;00m(\n\u001b[0;32m    485\u001b[0m         \u001b[38;5;124m\"\u001b[39m\u001b[38;5;124mUnsupported configuration: The `google.generativeai` SDK currently does not support the combination of `stream=True` and `enable_automatic_function_calling=True`.\u001b[39m\u001b[38;5;124m\"\u001b[39m\n\u001b[0;32m    486\u001b[0m     )\n\u001b[0;32m    488\u001b[0m tools_lib \u001b[38;5;241m=\u001b[39m \u001b[38;5;28mself\u001b[39m\u001b[38;5;241m.\u001b[39mmodel\u001b[38;5;241m.\u001b[39m_get_tools_lib(tools)\n\u001b[1;32m--> 490\u001b[0m content \u001b[38;5;241m=\u001b[39m \u001b[43mcontent_types\u001b[49m\u001b[38;5;241;43m.\u001b[39;49m\u001b[43mto_content\u001b[49m\u001b[43m(\u001b[49m\u001b[43mcontent\u001b[49m\u001b[43m)\u001b[49m\n\u001b[0;32m    492\u001b[0m \u001b[38;5;28;01mif\u001b[39;00m \u001b[38;5;129;01mnot\u001b[39;00m content\u001b[38;5;241m.\u001b[39mrole:\n\u001b[0;32m    493\u001b[0m     content\u001b[38;5;241m.\u001b[39mrole \u001b[38;5;241m=\u001b[39m \u001b[38;5;28mself\u001b[39m\u001b[38;5;241m.\u001b[39m_USER_ROLE\n",
            "File \u001b[1;32mc:\\Users\\Vincenzo\\miniconda3\\envs\\ema-gpt\\Lib\\site-packages\\google\\generativeai\\types\\content_types.py:246\u001b[0m, in \u001b[0;36mto_content\u001b[1;34m(content)\u001b[0m\n\u001b[0;32m    244\u001b[0m \u001b[38;5;28;01mdef\u001b[39;00m \u001b[38;5;21mto_content\u001b[39m(content: ContentType):\n\u001b[0;32m    245\u001b[0m     \u001b[38;5;28;01mif\u001b[39;00m \u001b[38;5;129;01mnot\u001b[39;00m content:\n\u001b[1;32m--> 246\u001b[0m         \u001b[38;5;28;01mraise\u001b[39;00m \u001b[38;5;167;01mValueError\u001b[39;00m(\n\u001b[0;32m    247\u001b[0m             \u001b[38;5;124m\"\u001b[39m\u001b[38;5;124mInvalid input: \u001b[39m\u001b[38;5;124m'\u001b[39m\u001b[38;5;124mcontent\u001b[39m\u001b[38;5;124m'\u001b[39m\u001b[38;5;124m argument must not be empty. Please provide a non-empty value.\u001b[39m\u001b[38;5;124m\"\u001b[39m\n\u001b[0;32m    248\u001b[0m         )\n\u001b[0;32m    250\u001b[0m     \u001b[38;5;28;01mif\u001b[39;00m \u001b[38;5;28misinstance\u001b[39m(content, Mapping):\n\u001b[0;32m    251\u001b[0m         content \u001b[38;5;241m=\u001b[39m _convert_dict(content)\n",
            "\u001b[1;31mValueError\u001b[0m: Invalid input: 'content' argument must not be empty. Please provide a non-empty value."
          ]
        }
      ],
      "source": [
        "from IPython.display import display, Markdown\n",
        "\n",
        "print('Welcome to EMA GPT!\\n\\n')\n",
        "\n",
        "while not answer_found:\n",
        "  response = send_message(input('> '))\n",
        "  display(Markdown(response.text))"
      ]
    },
    {
      "cell_type": "markdown",
      "metadata": {
        "id": "lr0xv8BIdXCQ"
      },
      "source": [
        "Some things to try:\n",
        "* Ask about the menu (e.g. \"what coffee drinks are available?\")\n",
        "* Use terms that are not specified in the prompt (e.g. \"a strong latte\" or \"an EB tea\")\n",
        "* Change your mind part way through (\"uhh cancel the latte sorry\")\n",
        "* Go off-menu (\"a babycino\")"
      ]
    },
    {
      "cell_type": "markdown",
      "metadata": {
        "id": "W438QHRGbLcB"
      },
      "source": [
        "## See also\n",
        "\n",
        "This sample app showed you how to integrate a traditional software system (the coffee ordering functions) and an AI agent powered by the Gemini API. This is a simple, practical way to use LLMs that allows for open-ended human language input and output that feels natural, but still keeps a human in the loop to ensure correct operation.\n",
        "\n",
        "To learn more about how Barista Bot works, check out:\n",
        "\n",
        "* The [Barista Bot](https://aistudio.google.com/app/prompts/barista-bot) prompt\n",
        "* [System instructions](../quickstarts/System_instructions.ipynb)\n",
        "* [Automatic function calling](../quickstarts/Function_calling.ipynb)\n"
      ]
    }
  ],
  "metadata": {
    "colab": {
      "name": "Agents_Function_Calling_Barista_Bot.ipynb",
      "toc_visible": true
    },
    "kernelspec": {
      "display_name": "Python 3",
      "name": "python3"
    },
    "language_info": {
      "codemirror_mode": {
        "name": "ipython",
        "version": 3
      },
      "file_extension": ".py",
      "mimetype": "text/x-python",
      "name": "python",
      "nbconvert_exporter": "python",
      "pygments_lexer": "ipython3",
      "version": "3.12.3"
    }
  },
  "nbformat": 4,
  "nbformat_minor": 0
}
