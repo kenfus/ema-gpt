{
  "cells": [
    {
      "cell_type": "code",
      "execution_count": 1,
      "metadata": {
        "id": "0gOuwcCUTNAO"
      },
      "outputs": [
        {
          "name": "stderr",
          "output_type": "stream",
          "text": [
            "c:\\Users\\Vincenzo\\miniconda3\\envs\\ema-gpt\\Lib\\site-packages\\tqdm\\auto.py:21: TqdmWarning: IProgress not found. Please update jupyter and ipywidgets. See https://ipywidgets.readthedocs.io/en/stable/user_install.html\n",
            "  from .autonotebook import tqdm as notebook_tqdm\n"
          ]
        }
      ],
      "source": [
        "import google.generativeai as genai\n",
        "from google.api_core import retry\n",
        "import os\n",
        "import requests\n",
        "from bs4 import BeautifulSoup\n",
        "from googlesearch import search\n",
        "import pdfplumber\n",
        "from io import BytesIO\n",
        "from googleapiclient.discovery import build\n",
        "\n",
        "genai.configure(api_key=os.environ['GOOGLE_API_KEY'])\n"
      ]
    },
    {
      "cell_type": "code",
      "execution_count": 2,
      "metadata": {},
      "outputs": [],
      "source": [
        "from gpt_utils import GPT_PROMPT\n",
        "from gpt_utils import get_text_from_url, google_search"
      ]
    },
    {
      "cell_type": "code",
      "execution_count": 3,
      "metadata": {},
      "outputs": [
        {
          "data": {
            "text/plain": [
              "'1: Url: https://www.ema.europa.eu/en/human-regulatory-overview/post-authorisation/paediatric-medicines-post-authorisation/submitting-results-paediatric-studies. Title: Submitting results of paediatric studies | European Medicines Agency. Description: 1 . What is the “Article 46 paediatric study submission”? Rev. Oct 2023.. \\n 2: Url: https://www.ncleg.net/EnactedLegislation/Statutes/PDF/ByArticle/Chapter_15a/Article_46.pdf. Title: NC General Statutes - Chapter 15A Article 46. Description: Article 46. ... Article, the investigating law enforcement agency shall provide ... Compensation Act and the deadlines by which the victim must file a claim for.. \\n 3: Url: https://www.ncbi.nlm.nih.gov/pmc/articles/PMC8518420/. Title: Optimizing Pediatric Medicine Developments in the European Union .... Description: within a shorter time frame. Currently, in its implementation of Article 46, the EMA requests that Clinical Study Reports (CSRs) must be submitted within 6\\xa0.... \\n 4: Url: https://ico.org.uk/for-organisations/uk-gdpr-guidance-and-resources/international-transfers/international-transfers-a-guide/. Title: A guide to international transfers | ICO. Description: Oct 13, 2023 ... This could be an Article 46 transfer mechanism, that after the transfer risk assessment you decided did not provide sufficient safeguards for\\xa0.... \\n 5: Url: https://www.wipo.int/pct/en/texts/rules/r46.html. Title: Rule 46 of the Regulations under the PCT. Description: The time limit referred to in Article 19 shall be two months from the date of transmittal of the international search report to the International Bureau and\\xa0.... \\n 6: Url: https://statutes.capitol.texas.gov/Docs/CR/htm/CR.46B.htm. Title: CODE OF CRIMINAL PROCEDURE CHAPTER 46B .... Description: REPORT DEADLINE. ... report under Article 46B.025 for any testimony by ... (b) If before the 15th day after the date on which the court received notification under\\xa0.... \\n 7: Url: https://reachonline.eu/REACH/EN/REACH_EN/article46.html. Title: [article46] REACH - Registration, Evaluation, Authorisation and .... Description: ... submit the further information and setting a deadline for its submission. A draft decision shall be prepared within 12 months of the publication of the\\xa0.... \\n 8: Url: https://www.gov.uk/guidance/completed-paediatric-studies-submission-processing-and-assessment. Title: Completed Paediatric Studies - submission, processing and .... Description: ... submitted for assessment as an EU PdWS procedure under Article 46 of Reg. ... provide justification for the delay including an estimated date of submission.. \\n 9: Url: https://gdpr-info.eu/art-46-gdpr/. Title: Art. 46 GDPR – Transfers subject to appropriate safeguards .... Description: standard data protection clauses adopted by a supervisory authority and approved by the Commission pursuant to the examination procedure referred to in Article\\xa0.... \\n 10: Url: https://www.aifa.gov.it/sites/default/files/ped_qa_regulation_art45_46.pdf. Title: SUBMISSION OF PAEDIATRIC STUDIES ACCORDING TO .... Description: Does the deadline of 26 January 2008 also apply to the submission of the Annex II? ... deadline for submission ... submit the study according to Article 46? If yes\\xa0.... \\n '"
            ]
          },
          "execution_count": 3,
          "metadata": {},
          "output_type": "execute_result"
        }
      ],
      "source": [
        "google_search('What is the deadline to submit an article 46?')"
      ]
    },
    {
      "cell_type": "markdown",
      "metadata": {
        "id": "c_ybYQ-sU7rn"
      },
      "source": [
        "## Set up the model\n",
        "\n",
        "In this step you collate the functions into a \"system\" that is passed as `tools`, instantiate the model and start the chat session.\n",
        "\n",
        "This block includes two options for interacting with the Gemini API. By toggling `use_sys_inst`, you can switch between using Gemini 1.5 Pro with a system instruction (highest quality but free-tier quota may be insufficient for a long chat session) or Gemini 1.0 Pro (higher free quota but does not support system instructions).\n",
        "\n",
        "A retriable `send_message` function is also defined to help with low-quota conversations."
      ]
    },
    {
      "cell_type": "code",
      "execution_count": 4,
      "metadata": {
        "id": "8vmtzAlPaQH-"
      },
      "outputs": [],
      "source": [
        "ordering_system = [google_search, get_text_from_url]\n",
        "\n",
        "model_name = 'gemini-1.5-flash' \n",
        "\n",
        "model = genai.GenerativeModel(\n",
        "    model_name, tools=ordering_system, system_instruction=GPT_PROMPT)\n",
        "\n",
        "convo = model.start_chat(enable_automatic_function_calling=True)\n",
        "\n",
        "@retry.Retry(initial=30)\n",
        "def send_message(message):\n",
        "  return convo.send_message(message, stream=False)"
      ]
    },
    {
      "cell_type": "markdown",
      "metadata": {},
      "source": [
        "[21:52, 06/06/2024] Tram Chuc: https://www.ema.europa.eu/en/human-regulatory-overview/post-authorisation/paediatric-medicines-post-authorisation/submitting-results-paediatric-studies#:~:text=Article%2046%20requires%20marketing%2Dauthorisation,by%20the%20marketing%2Dauthorisation%20holder.\n",
        "[21:53, 06/06/2024] Tram Chuc: What is the deadline to submit an article 46"
      ]
    },
    {
      "cell_type": "code",
      "execution_count": null,
      "metadata": {
        "id": "38SAyrNNVhvE"
      },
      "outputs": [],
      "source": [
        "from IPython.display import display, Markdown\n",
        "\n",
        "\n",
        "answer = send_message(\"What is the deadline to submit an article 46?\")\n",
        "\n",
        "Markdown(answer.text)"
      ]
    }
  ],
  "metadata": {
    "colab": {
      "name": "Agents_Function_Calling_Barista_Bot.ipynb",
      "toc_visible": true
    },
    "kernelspec": {
      "display_name": "Python 3",
      "name": "python3"
    },
    "language_info": {
      "codemirror_mode": {
        "name": "ipython",
        "version": 3
      },
      "file_extension": ".py",
      "mimetype": "text/x-python",
      "name": "python",
      "nbconvert_exporter": "python",
      "pygments_lexer": "ipython3",
      "version": "3.12.3"
    }
  },
  "nbformat": 4,
  "nbformat_minor": 0
}
